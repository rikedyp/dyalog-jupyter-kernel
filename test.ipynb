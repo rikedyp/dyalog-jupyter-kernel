{
 "cells": [
  {
   "cell_type": "markdown",
   "id": "0fc9fe87",
   "metadata": {
    "scrolled": true
   },
   "source": [
    "# Dyalog Jupyter kernel\n",
    "Test notebook"
   ]
  },
  {
   "cell_type": "markdown",
   "id": "62698dbe",
   "metadata": {},
   "source": [
    "Execute an APL expression:"
   ]
  },
  {
   "cell_type": "code",
   "execution_count": null,
   "id": "fb61f1de",
   "metadata": {},
   "outputs": [],
   "source": [
    "+/⍳10"
   ]
  },
  {
   "cell_type": "code",
   "execution_count": null,
   "id": "6e00de25",
   "metadata": {},
   "outputs": [],
   "source": [
    "var ← 1 2 3\n",
    "+/var"
   ]
  },
  {
   "cell_type": "markdown",
   "id": "a1795eed",
   "metadata": {},
   "source": [
    "[GitHub issue #82](https://github.com/Dyalog/dyalog-jupyter-kernel/issues/82) async responses:"
   ]
  },
  {
   "cell_type": "code",
   "execution_count": null,
   "id": "3681aff4",
   "metadata": {},
   "outputs": [],
   "source": [
    "{⎕←⍵}¨⍳3\n",
    "{⎕←⍵}&¨⍳3   ⍝ This should reply 1 2 3"
   ]
  },
  {
   "cell_type": "code",
   "execution_count": null,
   "id": "a496d626",
   "metadata": {},
   "outputs": [],
   "source": [
    ":Namespace MyNS\n",
    "  Max ← {⌈/⍵}\n",
    "  var ← 1 4 3 5 2 213 22 45\n",
    ":EndNamespace  "
   ]
  },
  {
   "cell_type": "code",
   "execution_count": null,
   "id": "03de818d",
   "metadata": {
    "scrolled": true
   },
   "outputs": [],
   "source": [
    "MyNS.(Max var)"
   ]
  },
  {
   "cell_type": "markdown",
   "id": "b91391d1",
   "metadata": {},
   "source": [
    "Jupyter SUSPEND (see kernel.py line 345 and https://ipython.readthedocs.io/en/stable/interactive/magics.html)"
   ]
  },
  {
   "cell_type": "code",
   "execution_count": null,
   "id": "0fa5ddb5",
   "metadata": {},
   "outputs": [],
   "source": [
    "%suspend on"
   ]
  },
  {
   "cell_type": "code",
   "execution_count": null,
   "id": "7607032f",
   "metadata": {
    "scrolled": false
   },
   "outputs": [],
   "source": [
    "%suspend off"
   ]
  },
  {
   "cell_type": "markdown",
   "id": "0d809a1d",
   "metadata": {},
   "source": [
    "Multiline stuff"
   ]
  },
  {
   "cell_type": "code",
   "execution_count": 4,
   "id": "3284ae31",
   "metadata": {},
   "outputs": [],
   "source": [
    "]dinput\n",
    "F←{\n",
    "    ⍵ ⍵\n",
    "}"
   ]
  },
  {
   "cell_type": "code",
   "execution_count": 5,
   "id": "1bce09b0",
   "metadata": {},
   "outputs": [
    {
     "data": {
      "text/html": [
       "<pre class=\"language-APL\">4 4\n",
       "</pre>"
      ]
     },
     "execution_count": 5,
     "metadata": {},
     "output_type": "execute_result"
    }
   ],
   "source": [
    "F 4"
   ]
  },
  {
   "cell_type": "code",
   "execution_count": null,
   "id": "32a3541a",
   "metadata": {},
   "outputs": [],
   "source": []
  }
 ],
 "metadata": {
  "kernelspec": {
   "display_name": "Dyalog APL",
   "language": "apl",
   "name": "dyalog-kernel"
  },
  "language_info": {
   "file_extension": ".apl",
   "mimetype": "text/apl",
   "name": "APL"
  }
 },
 "nbformat": 4,
 "nbformat_minor": 5
}
