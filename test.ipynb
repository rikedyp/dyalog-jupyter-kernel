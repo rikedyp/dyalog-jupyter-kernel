{
 "cells": [
  {
   "cell_type": "markdown",
   "id": "0fc9fe87",
   "metadata": {
    "scrolled": true
   },
   "source": [
    "# Dyalog Jupyter kernel"
   ]
  },
  {
   "cell_type": "markdown",
   "id": "62698dbe",
   "metadata": {},
   "source": [
    "## Expressions"
   ]
  },
  {
   "cell_type": "code",
   "execution_count": 1,
   "id": "fb61f1de",
   "metadata": {},
   "outputs": [
    {
     "data": {
      "text/html": [
       "<pre class=\"language-APL\">55\n",
       "</pre>"
      ]
     },
     "execution_count": 1,
     "metadata": {},
     "output_type": "execute_result"
    }
   ],
   "source": [
    "+/⍳10"
   ]
  },
  {
   "cell_type": "code",
   "execution_count": 2,
   "id": "6e00de25",
   "metadata": {},
   "outputs": [
    {
     "data": {
      "text/html": [
       "<pre class=\"language-APL\">6\n",
       "</pre>"
      ]
     },
     "execution_count": 2,
     "metadata": {},
     "output_type": "execute_result"
    }
   ],
   "source": [
    "var←1 2 3\n",
    "+/var"
   ]
  },
  {
   "cell_type": "markdown",
   "id": "a1795eed",
   "metadata": {},
   "source": [
    "[GitHub issue #82](https://github.com/Dyalog/dyalog-jupyter-kernel/issues/82) async responses:"
   ]
  },
  {
   "cell_type": "code",
   "execution_count": 3,
   "id": "3681aff4",
   "metadata": {},
   "outputs": [
    {
     "data": {
      "text/html": [
       "<pre class=\"language-APL\">1\n",
       "2\n",
       "3\n",
       "</pre>"
      ]
     },
     "execution_count": 3,
     "metadata": {},
     "output_type": "execute_result"
    }
   ],
   "source": [
    "{⎕←⍵}¨⍳3\n",
    "{⎕←⍵}&¨⍳3   ⍝ This should reply 1 2 3"
   ]
  },
  {
   "cell_type": "markdown",
   "id": "b91391d1",
   "metadata": {},
   "source": [
    "## %suspend\n",
    "\n",
    "I can't find any documentation of the desired behaviour, but it should be preserved from whatever it was doing before"
   ]
  },
  {
   "cell_type": "code",
   "execution_count": 4,
   "id": "0fa5ddb5",
   "metadata": {},
   "outputs": [],
   "source": [
    "%suspend on"
   ]
  },
  {
   "cell_type": "code",
   "execution_count": 5,
   "id": "7607032f",
   "metadata": {
    "scrolled": false
   },
   "outputs": [],
   "source": [
    "%suspend off"
   ]
  },
  {
   "cell_type": "markdown",
   "id": "0d809a1d",
   "metadata": {},
   "source": [
    "## Multiline stuff"
   ]
  },
  {
   "cell_type": "code",
   "execution_count": 6,
   "id": "3284ae31",
   "metadata": {},
   "outputs": [
    {
     "data": {
      "text/html": [
       "<pre class=\"language-APL\">1\n",
       "</pre>"
      ]
     },
     "execution_count": 6,
     "metadata": {},
     "output_type": "execute_result"
    },
    {
     "data": {
      "text/html": [
       "<pre class=\"language-APL\">2 2\n",
       "</pre>"
      ]
     },
     "execution_count": 6,
     "metadata": {},
     "output_type": "execute_result"
    }
   ],
   "source": [
    "⍝ backwards compatibility with other notebooks that use ]dinput\n",
    "]dinput\n",
    "F←{\n",
    "    ⍵\n",
    "}\n",
    "\n",
    "F 1\n",
    "\n",
    "]dinput\n",
    "∇ r←F x\n",
    "  r←x x\n",
    "∇\n",
    "\n",
    "F 2"
   ]
  },
  {
   "cell_type": "code",
   "execution_count": 7,
   "id": "19028ab2",
   "metadata": {},
   "outputs": [
    {
     "data": {
      "text/html": [
       "<pre class=\"language-APL\">3 3 3\n",
       "</pre>"
      ]
     },
     "execution_count": 7,
     "metadata": {},
     "output_type": "execute_result"
    },
    {
     "data": {
      "text/html": [
       "<pre class=\"language-APL\">4 4 4 4\n",
       "</pre>"
      ]
     },
     "execution_count": 7,
     "metadata": {},
     "output_type": "execute_result"
    }
   ],
   "source": [
    "⍝ you don't need to use ]dinput now tho\n",
    "F←{\n",
    "    ⍵ ⍵ ⍵\n",
    "}\n",
    "\n",
    "F 3\n",
    "\n",
    "∇ r←F x\n",
    "  r←x x x x\n",
    "∇\n",
    "\n",
    "F 4"
   ]
  },
  {
   "cell_type": "code",
   "execution_count": 8,
   "id": "42e10c7e",
   "metadata": {},
   "outputs": [
    {
     "data": {
      "text/html": [
       "<pre class=\"language-APL\">120\n",
       "</pre>"
      ]
     },
     "execution_count": 8,
     "metadata": {},
     "output_type": "execute_result"
    }
   ],
   "source": [
    "⍝ funky cases\n",
    "∇ r←F x\n",
    "  Fact←{⍵=0:1⋄⍵×∇⍵-1} ⍝ ∇ in tradfn body\n",
    "  r←Fact x\n",
    "∇\n",
    "\n",
    "F 5"
   ]
  },
  {
   "cell_type": "code",
   "execution_count": 2,
   "id": "92915ea5",
   "metadata": {},
   "outputs": [
    {
     "data": {
      "text/html": [
       "<pre class=\"language-APL\">5 5 5 5 5\n",
       "</pre>"
      ]
     },
     "execution_count": 2,
     "metadata": {},
     "output_type": "execute_result"
    }
   ],
   "source": [
    ":namespace N\n",
    "    F←{\n",
    "        ⍵ ⍵ ⍵ ⍵ ⍵\n",
    "    }\n",
    ":endnamespace\n",
    "\n",
    "N.F 5"
   ]
  },
  {
   "cell_type": "markdown",
   "id": "7fa14641",
   "metadata": {},
   "source": [
    "Detects unclosed things:"
   ]
  },
  {
   "cell_type": "code",
   "execution_count": 11,
   "id": "92e28d36",
   "metadata": {},
   "outputs": [
    {
     "name": "stderr",
     "output_type": "stream",
     "text": [
      "DEFN ERROR: Unclosed dfn, missing '{'"
     ]
    }
   ],
   "source": [
    "F←{"
   ]
  },
  {
   "cell_type": "code",
   "execution_count": 13,
   "id": "4a7991c8",
   "metadata": {},
   "outputs": [
    {
     "name": "stderr",
     "output_type": "stream",
     "text": [
      "DEFN ERROR: Unclosed tradfn, missing '∇'"
     ]
    }
   ],
   "source": [
    "∇ r←F x"
   ]
  },
  {
   "cell_type": "code",
   "execution_count": 1,
   "id": "16d6279b",
   "metadata": {},
   "outputs": [
    {
     "name": "stderr",
     "output_type": "stream",
     "text": [
      "DEFN ERROR: No :EndNamespace"
     ]
    }
   ],
   "source": [
    ":namespace N"
   ]
  }
 ],
 "metadata": {
  "kernelspec": {
   "display_name": "Dyalog APL",
   "language": "apl",
   "name": "dyalog-kernel"
  },
  "language_info": {
   "file_extension": ".apl",
   "mimetype": "text/apl",
   "name": "APL"
  }
 },
 "nbformat": 4,
 "nbformat_minor": 5
}
